{
 "cells": [
  {
   "cell_type": "markdown",
   "metadata": {},
   "source": [
    "### 5b. Text Features"
   ]
  },
  {
   "cell_type": "code",
   "execution_count": 1,
   "metadata": {},
   "outputs": [],
   "source": [
    "import pickle\n",
    "import pandas as pd\n",
    "import numpy as np\n",
    "\n",
    "import time\n",
    "\n",
    "from keras.layers import LSTM, GRU, Bidirectional, concatenate, Dropout, Dense, Input, Conv1D, MaxPooling1D, Flatten\n",
    "from keras import Model, losses\n",
    "from tensorflow import keras\n",
    "from keras.callbacks import EarlyStopping\n",
    "from keras.regularizers import l2\n",
    "\n",
    "from sklearn.metrics import mean_squared_error\n",
    "from sklearn.metrics import mean_absolute_error\n",
    "\n",
    "import preprocessing as pre\n",
    "import model_evaluation as me\n",
    "\n",
    "import tensorflow as tf"
   ]
  },
  {
   "cell_type": "code",
   "execution_count": 2,
   "metadata": {},
   "outputs": [],
   "source": [
    "with open('X_tr_1_text.pkl', 'rb') as file_name:\n",
    "    X_tr_1_text = pickle.load(file_name) \n",
    "    \n",
    "with open('X_val_1_text.pkl', 'rb') as file_name:\n",
    "    X_val_1_text = pickle.load(file_name)\n",
    "    \n",
    "with open('y_tr_1.pkl', 'rb') as file_name:\n",
    "    y_tr_1 = pickle.load(file_name)\n",
    "    \n",
    "with open('y_val_1.pkl', 'rb') as file_name:\n",
    "    y_val_1 = pickle.load(file_name)\n",
    "\n",
    "with open('X_tr_full_text.pkl', 'rb') as file_name:\n",
    "    X_tr_full_text = pickle.load(file_name)"
   ]
  },
  {
   "cell_type": "code",
   "execution_count": 3,
   "metadata": {},
   "outputs": [],
   "source": [
    "with open('X_test_text.pkl', 'rb') as file_name:\n",
    "    X_test_text = pickle.load(file_name)"
   ]
  },
  {
   "cell_type": "code",
   "execution_count": 4,
   "metadata": {},
   "outputs": [],
   "source": [
    "model_name = []\n",
    "features_considered = []\n",
    "training_time = []\n",
    "val_rmse = []\n",
    "val_mae = []"
   ]
  },
  {
   "cell_type": "markdown",
   "metadata": {},
   "source": [
    "#### Data Preparation\n",
    "As was already performed in the main notebook."
   ]
  },
  {
   "cell_type": "code",
   "execution_count": 5,
   "metadata": {},
   "outputs": [],
   "source": [
    "OUTPUT_SEQ_LEN_NAME = 7\n",
    "OUTPUT_SEQ_LEN_SUMMARY = 50\n",
    "OUTPUT_SEQ_LEN_DESCRIPTION = 110"
   ]
  },
  {
   "cell_type": "code",
   "execution_count": 6,
   "metadata": {},
   "outputs": [
    {
     "name": "stdout",
     "output_type": "stream",
     "text": [
      "Found 400000 word vectors.\n"
     ]
    }
   ],
   "source": [
    "import os\n",
    "\n",
    "path_to_glove_file = os.path.join(\n",
    "    os.path.expanduser(\"~\"), \"Documents/adams/exam/data/glove.6B.100d.txt\"\n",
    ")\n",
    "\n",
    "embeddings_index = {}\n",
    "\n",
    "with open(path_to_glove_file) as f:\n",
    "    for line in f:\n",
    "        word, coefs = line.split(maxsplit=1)\n",
    "        coefs = np.fromstring(coefs, \"f\", sep=\" \")\n",
    "        embeddings_index[word] = coefs\n",
    "\n",
    "print(\"Found %s word vectors.\" % len(embeddings_index))"
   ]
  },
  {
   "cell_type": "code",
   "execution_count": 7,
   "metadata": {},
   "outputs": [
    {
     "name": "stdout",
     "output_type": "stream",
     "text": [
      "Converted 1097 words (40 misses).\n",
      "Successfully created embedding layer.\n",
      "Converted 4085 words (117 misses).\n",
      "Successfully created embedding layer.\n",
      "Converted 6341 words (331 misses).\n",
      "Successfully created embedding layer.\n"
     ]
    }
   ],
   "source": [
    "# name\n",
    "X_train_name_emb = pre.text_embedding(X_tr_full_text.name, OUTPUT_SEQ_LEN_NAME, embeddings_index)\n",
    "vectorizer_name = X_train_name_emb.embedding_prep()\n",
    "X_train_name_emb.get_embedding_matrix()\n",
    "embedding_layer_name = X_train_name_emb.get_embedding_layer()\n",
    "\n",
    "# summary\n",
    "X_train_summary_emb = pre.text_embedding(X_tr_full_text.summary, OUTPUT_SEQ_LEN_SUMMARY, embeddings_index)\n",
    "vectorizer_summary = X_train_summary_emb.embedding_prep()\n",
    "X_train_summary_emb.get_embedding_matrix()\n",
    "embedding_layer_summary = X_train_summary_emb.get_embedding_layer()\n",
    "\n",
    "# description\n",
    "X_train_description_emb = pre.text_embedding(X_tr_full_text.description, OUTPUT_SEQ_LEN_DESCRIPTION, embeddings_index)\n",
    "vectorizer_description = X_train_description_emb.embedding_prep()\n",
    "X_train_description_emb.get_embedding_matrix()\n",
    "embedding_layer_description = X_train_description_emb.get_embedding_layer()"
   ]
  },
  {
   "cell_type": "code",
   "execution_count": 8,
   "metadata": {},
   "outputs": [
    {
     "name": "stdout",
     "output_type": "stream",
     "text": [
      "Successfully created embedding layer.\n",
      "Successfully created embedding layer.\n",
      "Successfully created embedding layer.\n"
     ]
    }
   ],
   "source": [
    "# create trainable embedding layers\n",
    "embedding_layer_name_trainable = X_train_name_emb.get_embedding_layer(trainable=True)\n",
    "embedding_layer_summary_trainable = X_train_summary_emb.get_embedding_layer(trainable=True)\n",
    "embedding_layer_description_trainable = X_train_description_emb.get_embedding_layer(trainable=True)"
   ]
  },
  {
   "cell_type": "code",
   "execution_count": 9,
   "metadata": {},
   "outputs": [],
   "source": [
    "# prepare training and validation data so that it can be fed into NNs\n",
    "X_tr_1_text_name = vectorizer_name(np.array([[s] for s in X_tr_1_text.name])).numpy()\n",
    "X_tr_1_text_summary = vectorizer_summary(np.array([[s] for s in X_tr_1_text.summary])).numpy()\n",
    "X_tr_1_text_description = vectorizer_description(np.array([[s] for s in X_tr_1_text.description])).numpy()\n",
    "\n",
    "X_val_1_text_name = vectorizer_name(np.array([[s] for s in X_val_1_text.name])).numpy()\n",
    "X_val_1_text_summary = vectorizer_summary(np.array([[s] for s in X_val_1_text.summary])).numpy()\n",
    "X_val_1_text_description = vectorizer_description(np.array([[s] for s in X_val_1_text.description])).numpy()\n",
    "\n",
    "y_val_1 = np.array(y_val_1)"
   ]
  },
  {
   "cell_type": "markdown",
   "metadata": {},
   "source": [
    "#### Models"
   ]
  },
  {
   "cell_type": "code",
   "execution_count": 10,
   "metadata": {},
   "outputs": [],
   "source": [
    "callbacks = [EarlyStopping(monitor='val_loss', patience=3, verbose=1, min_delta=0.01, restore_best_weights=True)]"
   ]
  },
  {
   "cell_type": "markdown",
   "metadata": {},
   "source": [
    "#### 1.1.1 GRU - All Text Features (Static Embeddings)"
   ]
  },
  {
   "cell_type": "code",
   "execution_count": 11,
   "metadata": {},
   "outputs": [],
   "source": [
    "# name\n",
    "input_name = Input(shape=(None, ))\n",
    "embed_name = embedding_layer_name(input_name)\n",
    "inter_name = GRU(100)(embed_name) \n",
    "dense_name = Dense(1, activation=\"relu\")(inter_name)\n",
    "\n",
    "# summary\n",
    "input_summary = Input(shape=(None, ))\n",
    "embed_summary = embedding_layer_summary(input_summary)\n",
    "inter_summary = GRU(200)(embed_summary) \n",
    "dense_summary = Dense(1, activation=\"relu\")(inter_summary)\n",
    "\n",
    "# description\n",
    "input_description = Input(shape=(None, ))\n",
    "embed_description = embedding_layer_description(input_description)\n",
    "inter_description = GRU(200)(embed_description) \n",
    "dense_description = Dense(1, activation=\"relu\")(inter_description)\n",
    "\n",
    "\n",
    "# concatenate individual models\n",
    "concat = concatenate([dense_name, dense_summary, dense_description])\n",
    "outputs = Dense(1)(concat)\n",
    "\n",
    "model = Model(inputs=[input_name, input_summary, input_description], outputs = outputs)\n",
    "model.compile(loss = 'mean_squared_error', optimizer = \"adam\", metrics=['mae', me.root_mean_squared_error])"
   ]
  },
  {
   "cell_type": "code",
   "execution_count": 12,
   "metadata": {},
   "outputs": [
    {
     "name": "stdout",
     "output_type": "stream",
     "text": [
      "Epoch 1/30\n",
      "378/378 [==============================] - 37s 90ms/step - loss: 13241.9785 - mae: 79.5591 - root_mean_squared_error: 113.9163 - val_loss: 9586.2354 - val_mae: 61.4915 - val_root_mean_squared_error: 97.3611\n",
      "Epoch 2/30\n",
      "378/378 [==============================] - 33s 86ms/step - loss: 7851.9644 - mae: 57.5942 - root_mean_squared_error: 87.8628 - val_loss: 7056.0703 - val_mae: 58.0648 - val_root_mean_squared_error: 83.5404\n",
      "Epoch 3/30\n",
      "378/378 [==============================] - 33s 86ms/step - loss: 7026.0312 - mae: 59.1619 - root_mean_squared_error: 83.2101 - val_loss: 6991.1606 - val_mae: 59.7279 - val_root_mean_squared_error: 83.1966\n",
      "Epoch 4/30\n",
      "378/378 [==============================] - 33s 86ms/step - loss: 6391.1099 - mae: 53.8360 - root_mean_squared_error: 79.1678 - val_loss: 5472.2412 - val_mae: 45.7244 - val_root_mean_squared_error: 73.4626\n",
      "Epoch 5/30\n",
      "378/378 [==============================] - 33s 87ms/step - loss: 5151.6860 - mae: 45.5471 - root_mean_squared_error: 71.0889 - val_loss: 4966.0215 - val_mae: 44.3644 - val_root_mean_squared_error: 70.0015\n",
      "Epoch 6/30\n",
      "378/378 [==============================] - 32s 86ms/step - loss: 4766.2090 - mae: 43.9697 - root_mean_squared_error: 68.3904 - val_loss: 4697.3271 - val_mae: 43.5281 - val_root_mean_squared_error: 68.1007\n",
      "Epoch 7/30\n",
      "378/378 [==============================] - 32s 86ms/step - loss: 4538.9712 - mae: 43.0507 - root_mean_squared_error: 66.7120 - val_loss: 4563.3691 - val_mae: 42.9865 - val_root_mean_squared_error: 67.1257\n",
      "Epoch 8/30\n",
      "378/378 [==============================] - 33s 86ms/step - loss: 4387.8511 - mae: 42.4229 - root_mean_squared_error: 65.5634 - val_loss: 4461.8203 - val_mae: 43.3974 - val_root_mean_squared_error: 66.3971\n",
      "Epoch 9/30\n",
      "378/378 [==============================] - 33s 86ms/step - loss: 4233.2559 - mae: 41.7157 - root_mean_squared_error: 64.5030 - val_loss: 4419.2017 - val_mae: 43.3223 - val_root_mean_squared_error: 66.0697\n",
      "Epoch 10/30\n",
      "378/378 [==============================] - 33s 86ms/step - loss: 4092.6587 - mae: 41.0342 - root_mean_squared_error: 63.3592 - val_loss: 4356.3511 - val_mae: 41.5139 - val_root_mean_squared_error: 65.5632\n",
      "Epoch 11/30\n",
      "378/378 [==============================] - 33s 86ms/step - loss: 3979.6929 - mae: 40.4777 - root_mean_squared_error: 62.4740 - val_loss: 4497.4561 - val_mae: 46.1249 - val_root_mean_squared_error: 66.7078\n",
      "Epoch 12/30\n",
      "378/378 [==============================] - 33s 86ms/step - loss: 3850.5242 - mae: 39.9091 - root_mean_squared_error: 61.4743 - val_loss: 4374.9673 - val_mae: 43.5538 - val_root_mean_squared_error: 65.7325\n",
      "Epoch 13/30\n",
      "378/378 [==============================] - ETA: 0s - loss: 3753.5715 - mae: 39.4643 - root_mean_squared_error: 60.6554Restoring model weights from the end of the best epoch: 10.\n",
      "378/378 [==============================] - 33s 86ms/step - loss: 3753.5715 - mae: 39.4643 - root_mean_squared_error: 60.6554 - val_loss: 4387.0898 - val_mae: 43.3623 - val_root_mean_squared_error: 65.8613\n",
      "Epoch 13: early stopping\n"
     ]
    }
   ],
   "source": [
    "start = time.time()\n",
    "\n",
    "history = model.fit([X_tr_1_text_name, X_tr_1_text_summary, X_tr_1_text_description], y_tr_1,\n",
    "                    epochs=30,\n",
    "                    verbose=1, \n",
    "                    batch_size=128, \n",
    "                    shuffle=True,\n",
    "                    validation_data=([X_val_1_text_name, X_val_1_text_summary, X_val_1_text_description], y_val_1),\n",
    "                    callbacks=callbacks,\n",
    "                    workers=8,\n",
    "                    use_multiprocessing=True)\n",
    "\n",
    "runtime = round((time.time() - start)/60, 2)"
   ]
  },
  {
   "cell_type": "code",
   "execution_count": 13,
   "metadata": {},
   "outputs": [],
   "source": [
    "rmse, mae = me.compute_metrics(model, [X_val_1_text_name, X_val_1_text_summary, X_val_1_text_description], y_val_1)"
   ]
  },
  {
   "cell_type": "code",
   "execution_count": 14,
   "metadata": {},
   "outputs": [],
   "source": [
    "model_name.append('GRU (Static Emb.)')\n",
    "features_considered.append('Name, Summary, Description')\n",
    "training_time.append(runtime)\n",
    "val_rmse.append(rmse)\n",
    "val_mae.append(mae)"
   ]
  },
  {
   "cell_type": "markdown",
   "metadata": {},
   "source": [
    "#### 1.1.2 GRU - All Text Features (Trainable Embeddings)"
   ]
  },
  {
   "cell_type": "code",
   "execution_count": 15,
   "metadata": {},
   "outputs": [],
   "source": [
    "# name\n",
    "input_name = Input(shape=(None, ))\n",
    "embed_name = embedding_layer_name_trainable(input_name)\n",
    "inter_name = GRU(100)(embed_name) \n",
    "dense_name = Dense(1, activation=\"relu\")(inter_name)\n",
    "\n",
    "# summary\n",
    "input_summary = Input(shape=(None, ))\n",
    "embed_summary = embedding_layer_summary_trainable(input_summary)\n",
    "inter_summary = GRU(200)(embed_summary) \n",
    "dense_summary = Dense(1, activation=\"relu\")(inter_summary)\n",
    "\n",
    "# description\n",
    "input_description = Input(shape=(None, ))\n",
    "embed_description = embedding_layer_description_trainable(input_description)\n",
    "inter_description = GRU(200)(embed_description) \n",
    "dense_description = Dense(1, activation=\"relu\")(inter_description)\n",
    "\n",
    "\n",
    "# concatenate individual models\n",
    "concat = concatenate([dense_name, dense_summary, dense_description])\n",
    "outputs = Dense(1)(concat)\n",
    "\n",
    "model = Model(inputs=[input_name, input_summary, input_description], outputs = outputs)\n",
    "model.compile(loss = 'mean_squared_error', optimizer = \"adam\", metrics=['mae', me.root_mean_squared_error])"
   ]
  },
  {
   "cell_type": "code",
   "execution_count": 16,
   "metadata": {},
   "outputs": [
    {
     "name": "stdout",
     "output_type": "stream",
     "text": [
      "Epoch 1/30\n",
      "378/378 [==============================] - 38s 94ms/step - loss: 13278.8623 - mae: 79.7194 - root_mean_squared_error: 114.1910 - val_loss: 9623.9736 - val_mae: 61.6281 - val_root_mean_squared_error: 97.5542\n",
      "Epoch 2/30\n",
      "378/378 [==============================] - 35s 92ms/step - loss: 7872.3096 - mae: 57.6122 - root_mean_squared_error: 87.9241 - val_loss: 7064.7642 - val_mae: 57.9617 - val_root_mean_squared_error: 83.5889\n",
      "Epoch 3/30\n",
      "378/378 [==============================] - 35s 92ms/step - loss: 6595.6318 - mae: 54.4958 - root_mean_squared_error: 80.4694 - val_loss: 5501.4165 - val_mae: 45.7257 - val_root_mean_squared_error: 73.6471\n",
      "Epoch 4/30\n",
      "378/378 [==============================] - 35s 92ms/step - loss: 5034.1406 - mae: 44.0639 - root_mean_squared_error: 70.2760 - val_loss: 4741.0894 - val_mae: 42.6598 - val_root_mean_squared_error: 68.3592\n",
      "Epoch 5/30\n",
      "378/378 [==============================] - 35s 92ms/step - loss: 4497.0386 - mae: 42.1239 - root_mean_squared_error: 66.3796 - val_loss: 4420.9385 - val_mae: 42.3507 - val_root_mean_squared_error: 66.0417\n",
      "Epoch 6/30\n",
      "378/378 [==============================] - 35s 92ms/step - loss: 4221.5767 - mae: 41.0758 - root_mean_squared_error: 64.3671 - val_loss: 4318.9849 - val_mae: 41.8828 - val_root_mean_squared_error: 65.2660\n",
      "Epoch 7/30\n",
      "378/378 [==============================] - 35s 92ms/step - loss: 4052.5459 - mae: 40.4243 - root_mean_squared_error: 62.9885 - val_loss: 4242.4819 - val_mae: 41.7577 - val_root_mean_squared_error: 64.7029\n",
      "Epoch 8/30\n",
      "378/378 [==============================] - 35s 92ms/step - loss: 3920.1919 - mae: 39.8746 - root_mean_squared_error: 62.1062 - val_loss: 4221.1865 - val_mae: 41.6312 - val_root_mean_squared_error: 64.5301\n",
      "Epoch 9/30\n",
      "378/378 [==============================] - 35s 92ms/step - loss: 3802.5447 - mae: 39.3291 - root_mean_squared_error: 61.0573 - val_loss: 4193.3047 - val_mae: 40.6739 - val_root_mean_squared_error: 64.2999\n",
      "Epoch 10/30\n",
      "378/378 [==============================] - 35s 92ms/step - loss: 3714.1340 - mae: 38.8703 - root_mean_squared_error: 60.3335 - val_loss: 4220.7954 - val_mae: 41.4024 - val_root_mean_squared_error: 64.5227\n",
      "Epoch 11/30\n",
      "378/378 [==============================] - 35s 92ms/step - loss: 3620.1794 - mae: 38.4433 - root_mean_squared_error: 59.6065 - val_loss: 4265.3760 - val_mae: 40.9880 - val_root_mean_squared_error: 64.8580\n",
      "Epoch 12/30\n",
      "378/378 [==============================] - ETA: 0s - loss: 3534.9563 - mae: 38.0213 - root_mean_squared_error: 58.8481Restoring model weights from the end of the best epoch: 9.\n",
      "378/378 [==============================] - 35s 91ms/step - loss: 3534.9563 - mae: 38.0213 - root_mean_squared_error: 58.8481 - val_loss: 4301.3325 - val_mae: 41.1183 - val_root_mean_squared_error: 65.1413\n",
      "Epoch 12: early stopping\n"
     ]
    }
   ],
   "source": [
    "start = time.time()\n",
    "\n",
    "history = model.fit([X_tr_1_text_name, X_tr_1_text_summary, X_tr_1_text_description], y_tr_1,\n",
    "                    epochs=30,\n",
    "                    verbose=1, \n",
    "                    batch_size=128, \n",
    "                    shuffle=True,\n",
    "                    validation_data=([X_val_1_text_name, X_val_1_text_summary, X_val_1_text_description], y_val_1),\n",
    "                    callbacks=callbacks,\n",
    "                    workers=8,\n",
    "                    use_multiprocessing=True)\n",
    "\n",
    "runtime = round((time.time() - start)/60, 2)"
   ]
  },
  {
   "cell_type": "code",
   "execution_count": 17,
   "metadata": {},
   "outputs": [],
   "source": [
    "rmse, mae = me.compute_metrics(model, [X_val_1_text_name, X_val_1_text_summary, X_val_1_text_description], y_val_1)"
   ]
  },
  {
   "cell_type": "code",
   "execution_count": 18,
   "metadata": {},
   "outputs": [],
   "source": [
    "model_name.append('GRU (Trainable Emb.)')\n",
    "features_considered.append('Name, Summary, Description')\n",
    "training_time.append(runtime)\n",
    "val_rmse.append(rmse)\n",
    "val_mae.append(mae)"
   ]
  },
  {
   "cell_type": "markdown",
   "metadata": {},
   "source": [
    "#### 1.2.1 GRU - Name and Description (Static Embeddings)"
   ]
  },
  {
   "cell_type": "code",
   "execution_count": 33,
   "metadata": {},
   "outputs": [],
   "source": [
    "# name\n",
    "input_name = Input(shape=(None, ))\n",
    "embed_name = embedding_layer_name(input_name)\n",
    "inter_name = GRU(100)(embed_name) \n",
    "dense_name = Dense(1, activation=\"relu\")(inter_name)\n",
    "\n",
    "# description\n",
    "input_description = Input(shape=(None, ))\n",
    "embed_description = embedding_layer_description(input_description)\n",
    "inter_description = GRU(200)(embed_description) \n",
    "dense_description = Dense(1, activation=\"relu\")(inter_description)\n",
    "\n",
    "\n",
    "# concatenate individual models\n",
    "concat = concatenate([dense_name, dense_description])\n",
    "outputs = Dense(1)(concat)\n",
    "\n",
    "model = Model(inputs=[input_name, input_description], outputs = outputs)\n",
    "model.compile(loss = 'mean_squared_error', optimizer = \"adam\", metrics=['mae', me.root_mean_squared_error])"
   ]
  },
  {
   "cell_type": "code",
   "execution_count": 34,
   "metadata": {},
   "outputs": [
    {
     "name": "stdout",
     "output_type": "stream",
     "text": [
      "Epoch 1/30\n",
      "378/378 [==============================] - 27s 65ms/step - loss: 11110.9932 - mae: 70.4006 - root_mean_squared_error: 103.6702 - val_loss: 7223.4160 - val_mae: 56.9847 - val_root_mean_squared_error: 84.4911\n",
      "Epoch 2/30\n",
      "378/378 [==============================] - 24s 63ms/step - loss: 6673.8057 - mae: 55.5686 - root_mean_squared_error: 81.0130 - val_loss: 5629.2500 - val_mae: 48.5203 - val_root_mean_squared_error: 74.5047\n",
      "Epoch 3/30\n",
      "378/378 [==============================] - 23s 62ms/step - loss: 5219.3750 - mae: 47.1910 - root_mean_squared_error: 71.6174 - val_loss: 4883.9712 - val_mae: 44.7657 - val_root_mean_squared_error: 69.3433\n",
      "Epoch 4/30\n",
      "378/378 [==============================] - 23s 62ms/step - loss: 4551.2847 - mae: 44.1129 - root_mean_squared_error: 66.8592 - val_loss: 4249.6973 - val_mae: 39.9590 - val_root_mean_squared_error: 64.6531\n",
      "Epoch 5/30\n",
      "378/378 [==============================] - 23s 62ms/step - loss: 3979.5232 - mae: 39.9487 - root_mean_squared_error: 62.4722 - val_loss: 3952.0686 - val_mae: 39.2496 - val_root_mean_squared_error: 62.3747\n",
      "Epoch 6/30\n",
      "378/378 [==============================] - 23s 62ms/step - loss: 3635.3672 - mae: 38.3476 - root_mean_squared_error: 59.6955 - val_loss: 3795.1453 - val_mae: 37.8948 - val_root_mean_squared_error: 61.1168\n",
      "Epoch 7/30\n",
      "378/378 [==============================] - 23s 62ms/step - loss: 3376.7661 - mae: 37.0488 - root_mean_squared_error: 57.5330 - val_loss: 3721.7441 - val_mae: 37.2583 - val_root_mean_squared_error: 60.5095\n",
      "Epoch 8/30\n",
      "378/378 [==============================] - 23s 62ms/step - loss: 3158.4248 - mae: 35.9072 - root_mean_squared_error: 55.6055 - val_loss: 3633.9553 - val_mae: 36.8029 - val_root_mean_squared_error: 59.7694\n",
      "Epoch 9/30\n",
      "378/378 [==============================] - 23s 62ms/step - loss: 3002.9678 - mae: 35.0853 - root_mean_squared_error: 54.2048 - val_loss: 3750.1208 - val_mae: 36.6787 - val_root_mean_squared_error: 60.6971\n",
      "Epoch 10/30\n",
      "378/378 [==============================] - 23s 62ms/step - loss: 2744.3347 - mae: 33.7224 - root_mean_squared_error: 51.8206 - val_loss: 3720.9846 - val_mae: 36.3954 - val_root_mean_squared_error: 60.4701\n",
      "Epoch 11/30\n",
      "378/378 [==============================] - ETA: 0s - loss: 2625.8936 - mae: 33.0592 - root_mean_squared_error: 50.7076Restoring model weights from the end of the best epoch: 8.\n",
      "378/378 [==============================] - 23s 62ms/step - loss: 2625.8936 - mae: 33.0592 - root_mean_squared_error: 50.7076 - val_loss: 3699.0247 - val_mae: 36.3724 - val_root_mean_squared_error: 60.3057\n",
      "Epoch 11: early stopping\n"
     ]
    }
   ],
   "source": [
    "start = time.time()\n",
    "\n",
    "history = model.fit([X_tr_1_text_name, X_tr_1_text_description], y_tr_1,\n",
    "                    epochs=30,\n",
    "                    verbose=1, \n",
    "                    batch_size=128, \n",
    "                    shuffle=False,\n",
    "                    validation_data=([X_val_1_text_name, X_val_1_text_description], y_val_1),\n",
    "                    callbacks=callbacks,\n",
    "                    workers=8,\n",
    "                    use_multiprocessing=True)\n",
    "\n",
    "runtime = round((time.time() - start)/60, 2)"
   ]
  },
  {
   "cell_type": "code",
   "execution_count": 35,
   "metadata": {},
   "outputs": [],
   "source": [
    "rmse, mae = me.compute_metrics(model, [X_val_1_text_name, X_val_1_text_description], y_val_1)"
   ]
  },
  {
   "cell_type": "code",
   "execution_count": 36,
   "metadata": {},
   "outputs": [],
   "source": [
    "model_name.append('GRU (Static Emb.)')\n",
    "features_considered.append('Name, Description')\n",
    "training_time.append(runtime)\n",
    "val_rmse.append(rmse)\n",
    "val_mae.append(mae)"
   ]
  },
  {
   "cell_type": "markdown",
   "metadata": {},
   "source": [
    "#### 1.2.2 GRU - Name and Description (Trainable Embeddings)"
   ]
  },
  {
   "cell_type": "code",
   "execution_count": 37,
   "metadata": {},
   "outputs": [],
   "source": [
    "# name\n",
    "input_name = Input(shape=(None, ))\n",
    "embed_name = embedding_layer_name_trainable(input_name)\n",
    "inter_name = GRU(100)(embed_name) \n",
    "dense_name = Dense(1, activation=\"relu\")(inter_name)\n",
    "\n",
    "# description\n",
    "input_description = Input(shape=(None, ))\n",
    "embed_description = embedding_layer_description_trainable(input_description)\n",
    "inter_description = GRU(200)(embed_description) \n",
    "dense_description = Dense(1, activation=\"relu\")(inter_description)\n",
    "\n",
    "\n",
    "# concatenate individual models\n",
    "concat = concatenate([dense_name, dense_description])\n",
    "outputs = Dense(1)(concat)\n",
    "\n",
    "model = Model(inputs=[input_name, input_description], outputs = outputs)\n",
    "model.compile(loss = 'mean_squared_error', optimizer = \"adam\", metrics=['mae', me.root_mean_squared_error])"
   ]
  },
  {
   "cell_type": "code",
   "execution_count": 38,
   "metadata": {},
   "outputs": [
    {
     "name": "stdout",
     "output_type": "stream",
     "text": [
      "Epoch 1/30\n",
      "378/378 [==============================] - 35s 87ms/step - loss: 11099.5635 - mae: 70.4102 - root_mean_squared_error: 103.6158 - val_loss: 7198.7803 - val_mae: 56.7915 - val_root_mean_squared_error: 84.3443\n",
      "Epoch 2/30\n",
      "378/378 [==============================] - 32s 84ms/step - loss: 5803.7598 - mae: 48.3075 - root_mean_squared_error: 75.0454 - val_loss: 4491.6401 - val_mae: 39.5626 - val_root_mean_squared_error: 66.4333\n",
      "Epoch 3/30\n",
      "378/378 [==============================] - 32s 83ms/step - loss: 3869.8865 - mae: 38.0729 - root_mean_squared_error: 61.5137 - val_loss: 3817.3181 - val_mae: 38.8337 - val_root_mean_squared_error: 61.3081\n",
      "Epoch 4/30\n",
      "378/378 [==============================] - 31s 83ms/step - loss: 3258.9033 - mae: 35.6979 - root_mean_squared_error: 56.4453 - val_loss: 3585.2119 - val_mae: 37.1665 - val_root_mean_squared_error: 59.3703\n",
      "Epoch 5/30\n",
      "378/378 [==============================] - 31s 83ms/step - loss: 2949.7390 - mae: 34.2424 - root_mean_squared_error: 53.7651 - val_loss: 3465.7383 - val_mae: 36.8303 - val_root_mean_squared_error: 58.3969\n",
      "Epoch 6/30\n",
      "378/378 [==============================] - 32s 84ms/step - loss: 2718.2312 - mae: 33.0661 - root_mean_squared_error: 51.5450 - val_loss: 3435.0093 - val_mae: 36.5026 - val_root_mean_squared_error: 58.1549\n",
      "Epoch 7/30\n",
      "378/378 [==============================] - 32s 83ms/step - loss: 2552.1108 - mae: 32.1557 - root_mean_squared_error: 49.9447 - val_loss: 3493.1887 - val_mae: 38.2812 - val_root_mean_squared_error: 58.7029\n",
      "Epoch 8/30\n",
      "378/378 [==============================] - 31s 83ms/step - loss: 2421.0730 - mae: 31.4794 - root_mean_squared_error: 48.6185 - val_loss: 3541.5933 - val_mae: 36.1893 - val_root_mean_squared_error: 59.0660\n",
      "Epoch 9/30\n",
      "378/378 [==============================] - ETA: 0s - loss: 2300.8013 - mae: 30.7431 - root_mean_squared_error: 47.4717Restoring model weights from the end of the best epoch: 6.\n",
      "378/378 [==============================] - 32s 84ms/step - loss: 2300.8013 - mae: 30.7431 - root_mean_squared_error: 47.4717 - val_loss: 3461.7144 - val_mae: 36.0187 - val_root_mean_squared_error: 58.3762\n",
      "Epoch 9: early stopping\n"
     ]
    }
   ],
   "source": [
    "start = time.time()\n",
    "\n",
    "history = model.fit([X_tr_1_text_name, X_tr_1_text_description], y_tr_1,\n",
    "                    epochs=30,\n",
    "                    verbose=1, \n",
    "                    batch_size=128, \n",
    "                    shuffle=True,\n",
    "                    validation_data=([X_val_1_text_name, X_val_1_text_description], y_val_1),\n",
    "                    callbacks=callbacks,\n",
    "                    workers=8,\n",
    "                    use_multiprocessing=True)\n",
    "\n",
    "runtime = round((time.time() - start)/60, 2)"
   ]
  },
  {
   "cell_type": "code",
   "execution_count": 39,
   "metadata": {},
   "outputs": [],
   "source": [
    "rmse, mae = me.compute_metrics(model, [X_val_1_text_name, X_val_1_text_description], y_val_1)"
   ]
  },
  {
   "cell_type": "code",
   "execution_count": 40,
   "metadata": {},
   "outputs": [],
   "source": [
    "model_name.append('GRU (Trainable Emb.)')\n",
    "features_considered.append('Name, Description')\n",
    "training_time.append(runtime)\n",
    "val_rmse.append(rmse)\n",
    "val_mae.append(mae)"
   ]
  },
  {
   "cell_type": "markdown",
   "metadata": {},
   "source": [
    "#### 1.3.1 GRU - Description (Static Embeddings)"
   ]
  },
  {
   "cell_type": "code",
   "execution_count": 41,
   "metadata": {},
   "outputs": [],
   "source": [
    "# description\n",
    "input_description = Input(shape=(None, ))\n",
    "embed_description = embedding_layer_description(input_description)\n",
    "inter_description = GRU(200)(embed_description) \n",
    "outputs = Dense(1)(inter_description)\n",
    "\n",
    "model = Model(inputs=input_description, outputs=outputs)\n",
    "model.compile(loss = 'mean_squared_error', optimizer = \"adam\", metrics=['mae', me.root_mean_squared_error])"
   ]
  },
  {
   "cell_type": "code",
   "execution_count": 42,
   "metadata": {
    "scrolled": true
   },
   "outputs": [
    {
     "name": "stdout",
     "output_type": "stream",
     "text": [
      "Epoch 1/30\n",
      "378/378 [==============================] - 24s 60ms/step - loss: 10500.6006 - mae: 66.6787 - root_mean_squared_error: 101.2467 - val_loss: 7766.4541 - val_mae: 56.7684 - val_root_mean_squared_error: 87.5831\n",
      "Epoch 2/30\n",
      "378/378 [==============================] - 22s 58ms/step - loss: 7238.5552 - mae: 57.2834 - root_mean_squared_error: 84.3858 - val_loss: 7011.9570 - val_mae: 58.6024 - val_root_mean_squared_error: 83.2954\n",
      "Epoch 3/30\n",
      "378/378 [==============================] - 22s 58ms/step - loss: 6393.7583 - mae: 52.8744 - root_mean_squared_error: 79.2288 - val_loss: 5680.0679 - val_mae: 47.1508 - val_root_mean_squared_error: 74.8093\n",
      "Epoch 4/30\n",
      "378/378 [==============================] - 22s 58ms/step - loss: 5358.3745 - mae: 46.4309 - root_mean_squared_error: 72.4205 - val_loss: 4993.5977 - val_mae: 43.7733 - val_root_mean_squared_error: 70.1192\n",
      "Epoch 5/30\n",
      "378/378 [==============================] - 22s 58ms/step - loss: 4767.3320 - mae: 43.7404 - root_mean_squared_error: 68.3751 - val_loss: 4592.9941 - val_mae: 41.6063 - val_root_mean_squared_error: 67.2399\n",
      "Epoch 6/30\n",
      "378/378 [==============================] - 22s 59ms/step - loss: 4337.5229 - mae: 41.4572 - root_mean_squared_error: 65.0984 - val_loss: 4239.8721 - val_mae: 40.2597 - val_root_mean_squared_error: 64.6426\n",
      "Epoch 7/30\n",
      "378/378 [==============================] - 22s 58ms/step - loss: 4051.4119 - mae: 40.2151 - root_mean_squared_error: 63.0383 - val_loss: 4123.7949 - val_mae: 39.9325 - val_root_mean_squared_error: 63.7011\n",
      "Epoch 8/30\n",
      "378/378 [==============================] - 22s 58ms/step - loss: 3785.3955 - mae: 38.9126 - root_mean_squared_error: 60.8663 - val_loss: 3959.4617 - val_mae: 39.4136 - val_root_mean_squared_error: 62.4366\n",
      "Epoch 9/30\n",
      "378/378 [==============================] - 22s 58ms/step - loss: 3542.7402 - mae: 37.8669 - root_mean_squared_error: 58.9145 - val_loss: 3923.9812 - val_mae: 40.8359 - val_root_mean_squared_error: 62.2189\n",
      "Epoch 10/30\n",
      "378/378 [==============================] - 22s 58ms/step - loss: 3359.8936 - mae: 36.9671 - root_mean_squared_error: 57.4280 - val_loss: 3980.8374 - val_mae: 42.6023 - val_root_mean_squared_error: 62.6903\n",
      "Epoch 11/30\n",
      "378/378 [==============================] - 22s 58ms/step - loss: 3175.8330 - mae: 36.0660 - root_mean_squared_error: 55.7969 - val_loss: 3733.5325 - val_mae: 38.2396 - val_root_mean_squared_error: 60.5813\n",
      "Epoch 12/30\n",
      "378/378 [==============================] - 22s 58ms/step - loss: 2940.1357 - mae: 34.7440 - root_mean_squared_error: 53.7075 - val_loss: 3717.6274 - val_mae: 38.6950 - val_root_mean_squared_error: 60.4986\n",
      "Epoch 13/30\n",
      "378/378 [==============================] - 22s 58ms/step - loss: 2761.1511 - mae: 33.8154 - root_mean_squared_error: 52.0672 - val_loss: 3736.4805 - val_mae: 37.6152 - val_root_mean_squared_error: 60.6041\n",
      "Epoch 14/30\n",
      "378/378 [==============================] - 22s 58ms/step - loss: 2641.5337 - mae: 33.1615 - root_mean_squared_error: 50.8611 - val_loss: 3858.8655 - val_mae: 39.4728 - val_root_mean_squared_error: 61.6618\n",
      "Epoch 15/30\n",
      "378/378 [==============================] - ETA: 0s - loss: 2480.1426 - mae: 32.2092 - root_mean_squared_error: 49.2264Restoring model weights from the end of the best epoch: 12.\n",
      "378/378 [==============================] - 22s 58ms/step - loss: 2480.1426 - mae: 32.2092 - root_mean_squared_error: 49.2264 - val_loss: 3839.6382 - val_mae: 39.6869 - val_root_mean_squared_error: 61.4735\n",
      "Epoch 15: early stopping\n"
     ]
    }
   ],
   "source": [
    "start = time.time()\n",
    "\n",
    "history = model.fit(X_tr_1_text_description, y_tr_1,\n",
    "                    epochs=30,\n",
    "                    verbose=1, \n",
    "                    batch_size=128, \n",
    "                    shuffle=True,\n",
    "                    validation_data=(X_val_1_text_description, y_val_1),\n",
    "                    callbacks=callbacks,\n",
    "                    workers=8,\n",
    "                    use_multiprocessing=True)\n",
    "\n",
    "runtime = round((time.time() - start)/60, 2)"
   ]
  },
  {
   "cell_type": "code",
   "execution_count": 43,
   "metadata": {},
   "outputs": [],
   "source": [
    "rmse, mae = me.compute_metrics(model, X_val_1_text_description, y_val_1)"
   ]
  },
  {
   "cell_type": "code",
   "execution_count": 44,
   "metadata": {},
   "outputs": [],
   "source": [
    "model_name.append('GRU (Static Emb.)')\n",
    "features_considered.append('Description')\n",
    "training_time.append(runtime)\n",
    "val_rmse.append(rmse)\n",
    "val_mae.append(mae)"
   ]
  },
  {
   "cell_type": "markdown",
   "metadata": {},
   "source": [
    "#### 1.3.2 GRU - Description (Trainable Embeddings)"
   ]
  },
  {
   "cell_type": "code",
   "execution_count": 45,
   "metadata": {},
   "outputs": [],
   "source": [
    "# description\n",
    "input_description = Input(shape=(None, ))\n",
    "embed_description = embedding_layer_description_trainable(input_description)\n",
    "inter_description = GRU(200)(embed_description) \n",
    "outputs = Dense(1)(inter_description)\n",
    "\n",
    "model = Model(inputs=input_description, outputs=outputs)\n",
    "model.compile(loss = 'mean_squared_error', optimizer = \"adam\", metrics=['mae', me.root_mean_squared_error])"
   ]
  },
  {
   "cell_type": "code",
   "execution_count": 46,
   "metadata": {
    "scrolled": true
   },
   "outputs": [
    {
     "name": "stdout",
     "output_type": "stream",
     "text": [
      "Epoch 1/30\n",
      "378/378 [==============================] - 32s 80ms/step - loss: 10479.9590 - mae: 66.4706 - root_mean_squared_error: 101.0998 - val_loss: 7765.9717 - val_mae: 56.5703 - val_root_mean_squared_error: 87.5782\n",
      "Epoch 2/30\n",
      "378/378 [==============================] - 29s 78ms/step - loss: 7136.9229 - mae: 56.2785 - root_mean_squared_error: 83.7756 - val_loss: 6485.0723 - val_mae: 52.8555 - val_root_mean_squared_error: 80.0119\n",
      "Epoch 3/30\n",
      "378/378 [==============================] - 29s 78ms/step - loss: 5568.9678 - mae: 45.7268 - root_mean_squared_error: 73.8228 - val_loss: 5076.9165 - val_mae: 42.4721 - val_root_mean_squared_error: 70.6641\n",
      "Epoch 4/30\n",
      "378/378 [==============================] - 29s 78ms/step - loss: 4654.5444 - mae: 41.7771 - root_mean_squared_error: 67.5302 - val_loss: 4549.5371 - val_mae: 43.2260 - val_root_mean_squared_error: 66.9354\n",
      "Epoch 5/30\n",
      "378/378 [==============================] - 29s 78ms/step - loss: 4122.4263 - mae: 39.6346 - root_mean_squared_error: 63.5567 - val_loss: 4226.8096 - val_mae: 41.7131 - val_root_mean_squared_error: 64.5135\n",
      "Epoch 6/30\n",
      "378/378 [==============================] - 29s 78ms/step - loss: 3750.9949 - mae: 38.0025 - root_mean_squared_error: 60.5911 - val_loss: 4084.3118 - val_mae: 38.6913 - val_root_mean_squared_error: 63.3250\n",
      "Epoch 7/30\n",
      "378/378 [==============================] - 29s 78ms/step - loss: 3470.3499 - mae: 36.8166 - root_mean_squared_error: 58.3395 - val_loss: 3946.1301 - val_mae: 39.0893 - val_root_mean_squared_error: 62.3130\n",
      "Epoch 8/30\n",
      "378/378 [==============================] - 29s 78ms/step - loss: 3278.1616 - mae: 36.0169 - root_mean_squared_error: 56.5951 - val_loss: 3957.0237 - val_mae: 42.8063 - val_root_mean_squared_error: 62.4865\n",
      "Epoch 9/30\n",
      "378/378 [==============================] - 29s 78ms/step - loss: 3124.0144 - mae: 35.4135 - root_mean_squared_error: 55.2996 - val_loss: 3760.9890 - val_mae: 38.4921 - val_root_mean_squared_error: 60.8073\n",
      "Epoch 10/30\n",
      "378/378 [==============================] - 29s 78ms/step - loss: 2989.2170 - mae: 34.7162 - root_mean_squared_error: 54.1011 - val_loss: 3817.6699 - val_mae: 40.1405 - val_root_mean_squared_error: 61.3461\n",
      "Epoch 11/30\n",
      "378/378 [==============================] - 30s 78ms/step - loss: 2830.8765 - mae: 33.9241 - root_mean_squared_error: 52.6135 - val_loss: 3751.7551 - val_mae: 38.0708 - val_root_mean_squared_error: 60.7209\n",
      "Epoch 12/30\n",
      "378/378 [==============================] - 29s 77ms/step - loss: 2750.5686 - mae: 33.5174 - root_mean_squared_error: 51.8967 - val_loss: 3818.1370 - val_mae: 38.9116 - val_root_mean_squared_error: 61.2742\n",
      "Epoch 13/30\n",
      "378/378 [==============================] - 30s 78ms/step - loss: 2625.8540 - mae: 32.8042 - root_mean_squared_error: 50.7474 - val_loss: 3806.7607 - val_mae: 37.7304 - val_root_mean_squared_error: 61.1315\n",
      "Epoch 14/30\n",
      "378/378 [==============================] - 29s 78ms/step - loss: 2530.0154 - mae: 32.3088 - root_mean_squared_error: 49.7954 - val_loss: 3705.0188 - val_mae: 37.9424 - val_root_mean_squared_error: 60.3366\n",
      "Epoch 15/30\n",
      "378/378 [==============================] - 29s 78ms/step - loss: 2467.0459 - mae: 31.9817 - root_mean_squared_error: 49.1279 - val_loss: 3789.1758 - val_mae: 38.6673 - val_root_mean_squared_error: 61.0624\n",
      "Epoch 16/30\n",
      "378/378 [==============================] - 29s 78ms/step - loss: 2358.3481 - mae: 31.2908 - root_mean_squared_error: 48.0793 - val_loss: 3798.7849 - val_mae: 39.4694 - val_root_mean_squared_error: 61.1817\n",
      "Epoch 17/30\n",
      "378/378 [==============================] - ETA: 0s - loss: 2281.2764 - mae: 30.8650 - root_mean_squared_error: 47.1953Restoring model weights from the end of the best epoch: 14.\n",
      "378/378 [==============================] - 29s 78ms/step - loss: 2281.2764 - mae: 30.8650 - root_mean_squared_error: 47.1953 - val_loss: 3852.8262 - val_mae: 37.9177 - val_root_mean_squared_error: 61.4971\n",
      "Epoch 17: early stopping\n"
     ]
    }
   ],
   "source": [
    "start = time.time()\n",
    "\n",
    "history = model.fit(X_tr_1_text_description, y_tr_1,\n",
    "                    epochs=30,\n",
    "                    verbose=1, \n",
    "                    batch_size=128, \n",
    "                    shuffle=True,\n",
    "                    validation_data=(X_val_1_text_description, y_val_1),\n",
    "                    callbacks=callbacks,\n",
    "                    workers=8,\n",
    "                    use_multiprocessing=True)\n",
    "\n",
    "runtime = round((time.time() - start)/60, 2)"
   ]
  },
  {
   "cell_type": "code",
   "execution_count": 47,
   "metadata": {},
   "outputs": [],
   "source": [
    "rmse, mae = me.compute_metrics(model, X_val_1_text_description, y_val_1)"
   ]
  },
  {
   "cell_type": "code",
   "execution_count": 48,
   "metadata": {},
   "outputs": [],
   "source": [
    "model_name.append('GRU (Trainable Emb.)')\n",
    "features_considered.append('Description')\n",
    "training_time.append(runtime)\n",
    "val_rmse.append(rmse)\n",
    "val_mae.append(mae)"
   ]
  },
  {
   "cell_type": "markdown",
   "metadata": {},
   "source": [
    "#### 2.1 LSTM - All Text Features \n",
    "* Adam optimizer was stuck for several epochs, RMSprop proved to converge much quicker and was thus chosen over Adam"
   ]
  },
  {
   "cell_type": "code",
   "execution_count": 49,
   "metadata": {},
   "outputs": [],
   "source": [
    "# name\n",
    "input_name = Input(shape=(None, ))\n",
    "embed_name = embedding_layer_name_trainable(input_name)\n",
    "inter_name = LSTM(100, return_sequences=False)(embed_name) \n",
    "dense_name = Dense(1, activation=\"relu\")(inter_name)\n",
    "\n",
    "# summary\n",
    "input_summary = Input(shape=(None, ))\n",
    "embed_summary = embedding_layer_summary_trainable(input_summary)\n",
    "inter_summary = LSTM(200, return_sequences=False)(embed_summary) \n",
    "dense_summary = Dense(1, activation=\"relu\")(inter_summary)\n",
    "\n",
    "# description\n",
    "input_description = Input(shape=(None, ))\n",
    "embed_description = embedding_layer_description_trainable(input_description)\n",
    "inter_description = LSTM(200, return_sequences=False)(embed_description) \n",
    "dense_description = Dense(1, activation=\"relu\")(inter_description)\n",
    "\n",
    "\n",
    "# concatenate individual models\n",
    "concat = concatenate([dense_name, dense_summary, dense_description])\n",
    "outputs = Dense(1)(concat)\n",
    "\n",
    "model = Model(inputs=[input_name, input_summary, input_description], outputs = outputs)\n",
    "model.compile(loss = 'mean_squared_error', optimizer = \"RMSprop\", metrics=['mae', me.root_mean_squared_error])"
   ]
  },
  {
   "cell_type": "code",
   "execution_count": 50,
   "metadata": {},
   "outputs": [
    {
     "name": "stdout",
     "output_type": "stream",
     "text": [
      "Epoch 1/30\n",
      "378/378 [==============================] - 47s 114ms/step - loss: 13319.8770 - mae: 79.9007 - root_mean_squared_error: 114.4706 - val_loss: 10030.9619 - val_mae: 63.1273 - val_root_mean_squared_error: 99.6140\n",
      "Epoch 2/30\n",
      "378/378 [==============================] - 40s 106ms/step - loss: 7583.4180 - mae: 53.6805 - root_mean_squared_error: 85.9350 - val_loss: 5712.1143 - val_mae: 46.5635 - val_root_mean_squared_error: 75.0287\n",
      "Epoch 3/30\n",
      "378/378 [==============================] - 40s 106ms/step - loss: 5018.3267 - mae: 44.5720 - root_mean_squared_error: 70.1237 - val_loss: 4736.6553 - val_mae: 44.8689 - val_root_mean_squared_error: 68.3940\n",
      "Epoch 4/30\n",
      "378/378 [==============================] - 39s 104ms/step - loss: 4380.8403 - mae: 42.3090 - root_mean_squared_error: 65.5781 - val_loss: 4471.7339 - val_mae: 43.5804 - val_root_mean_squared_error: 66.4415\n",
      "Epoch 5/30\n",
      "378/378 [==============================] - 39s 104ms/step - loss: 4152.0796 - mae: 41.2483 - root_mean_squared_error: 63.8249 - val_loss: 4418.7759 - val_mae: 43.1102 - val_root_mean_squared_error: 66.0507\n",
      "Epoch 6/30\n",
      "378/378 [==============================] - 40s 105ms/step - loss: 4046.0479 - mae: 40.6834 - root_mean_squared_error: 63.0745 - val_loss: 4422.3887 - val_mae: 41.3609 - val_root_mean_squared_error: 66.0353\n",
      "Epoch 7/30\n",
      "378/378 [==============================] - 39s 104ms/step - loss: 3969.2019 - mae: 40.1867 - root_mean_squared_error: 62.4711 - val_loss: 4352.9087 - val_mae: 41.7063 - val_root_mean_squared_error: 65.5480\n",
      "Epoch 8/30\n",
      "378/378 [==============================] - 40s 105ms/step - loss: 3909.9907 - mae: 39.8604 - root_mean_squared_error: 61.9235 - val_loss: 4349.5356 - val_mae: 42.6929 - val_root_mean_squared_error: 65.5725\n",
      "Epoch 9/30\n",
      "378/378 [==============================] - 40s 105ms/step - loss: 3849.4001 - mae: 39.4772 - root_mean_squared_error: 61.4528 - val_loss: 4298.1382 - val_mae: 41.7326 - val_root_mean_squared_error: 65.1432\n",
      "Epoch 10/30\n",
      "378/378 [==============================] - 40s 105ms/step - loss: 3802.5735 - mae: 39.1960 - root_mean_squared_error: 61.0471 - val_loss: 4334.9531 - val_mae: 43.1455 - val_root_mean_squared_error: 65.4821\n",
      "Epoch 11/30\n",
      "378/378 [==============================] - 40s 105ms/step - loss: 3747.6277 - mae: 38.9093 - root_mean_squared_error: 60.5820 - val_loss: 4239.2036 - val_mae: 41.6820 - val_root_mean_squared_error: 64.7244\n",
      "Epoch 12/30\n",
      "378/378 [==============================] - 40s 105ms/step - loss: 3716.6389 - mae: 38.6609 - root_mean_squared_error: 60.2883 - val_loss: 4244.1875 - val_mae: 43.0517 - val_root_mean_squared_error: 64.7741\n",
      "Epoch 13/30\n",
      "378/378 [==============================] - 40s 105ms/step - loss: 3668.6985 - mae: 38.4395 - root_mean_squared_error: 60.0031 - val_loss: 4233.5195 - val_mae: 40.8827 - val_root_mean_squared_error: 64.6254\n",
      "Epoch 14/30\n",
      "378/378 [==============================] - 40s 106ms/step - loss: 3623.7861 - mae: 38.1370 - root_mean_squared_error: 59.6636 - val_loss: 4241.8638 - val_mae: 40.6072 - val_root_mean_squared_error: 64.6729\n",
      "Epoch 15/30\n",
      "378/378 [==============================] - 40s 106ms/step - loss: 3574.2705 - mae: 37.8777 - root_mean_squared_error: 59.1969 - val_loss: 4226.1079 - val_mae: 40.7422 - val_root_mean_squared_error: 64.6022\n",
      "Epoch 16/30\n",
      "378/378 [==============================] - 40s 106ms/step - loss: 3526.2590 - mae: 37.5750 - root_mean_squared_error: 58.7992 - val_loss: 4384.2822 - val_mae: 42.4799 - val_root_mean_squared_error: 65.8751\n",
      "Epoch 17/30\n",
      "378/378 [==============================] - 40s 105ms/step - loss: 3482.2988 - mae: 37.3657 - root_mean_squared_error: 58.4105 - val_loss: 4220.2822 - val_mae: 41.6843 - val_root_mean_squared_error: 64.5792\n",
      "Epoch 18/30\n",
      "378/378 [==============================] - 40s 106ms/step - loss: 3435.4172 - mae: 37.0807 - root_mean_squared_error: 58.0152 - val_loss: 4206.0947 - val_mae: 41.1091 - val_root_mean_squared_error: 64.4494\n",
      "Epoch 19/30\n",
      "378/378 [==============================] - 40s 106ms/step - loss: 3385.2556 - mae: 36.7766 - root_mean_squared_error: 57.6377 - val_loss: 4247.2383 - val_mae: 40.6019 - val_root_mean_squared_error: 64.7467\n",
      "Epoch 20/30\n",
      "378/378 [==============================] - 40s 106ms/step - loss: 3349.8599 - mae: 36.5609 - root_mean_squared_error: 57.3118 - val_loss: 4211.9609 - val_mae: 40.3871 - val_root_mean_squared_error: 64.4482\n",
      "Epoch 21/30\n",
      "378/378 [==============================] - ETA: 0s - loss: 3289.1575 - mae: 36.2307 - root_mean_squared_error: 56.7218Restoring model weights from the end of the best epoch: 18.\n",
      "378/378 [==============================] - 40s 106ms/step - loss: 3289.1575 - mae: 36.2307 - root_mean_squared_error: 56.7218 - val_loss: 4215.9585 - val_mae: 40.4238 - val_root_mean_squared_error: 64.4880\n",
      "Epoch 21: early stopping\n"
     ]
    }
   ],
   "source": [
    "start = time.time()\n",
    "\n",
    "history = model.fit([X_tr_1_text_name, X_tr_1_text_summary, X_tr_1_text_description], y_tr_1,\n",
    "                    epochs=30,\n",
    "                    verbose=1, \n",
    "                    batch_size=128, \n",
    "                    shuffle=True,\n",
    "                    validation_data=([X_val_1_text_name, X_val_1_text_summary, X_val_1_text_description], y_val_1),\n",
    "                    callbacks=callbacks,\n",
    "                    workers=8,\n",
    "                    use_multiprocessing=True)\n",
    "\n",
    "runtime = round((time.time() - start)/60, 2)"
   ]
  },
  {
   "cell_type": "code",
   "execution_count": 51,
   "metadata": {},
   "outputs": [],
   "source": [
    "rmse, mae = me.compute_metrics(model, [X_val_1_text_name, X_val_1_text_summary, X_val_1_text_description], y_val_1)"
   ]
  },
  {
   "cell_type": "code",
   "execution_count": 52,
   "metadata": {},
   "outputs": [],
   "source": [
    "model_name.append('LSTM')\n",
    "features_considered.append('Name, Summary, Description')\n",
    "training_time.append(runtime)\n",
    "val_rmse.append(rmse)\n",
    "val_mae.append(mae)"
   ]
  },
  {
   "cell_type": "markdown",
   "metadata": {},
   "source": [
    "#### 2.2 LSTM - Name and Description"
   ]
  },
  {
   "cell_type": "code",
   "execution_count": 53,
   "metadata": {},
   "outputs": [],
   "source": [
    "# name\n",
    "input_name = Input(shape=(None, ))\n",
    "embed_name = embedding_layer_name_trainable(input_name)\n",
    "inter_name = LSTM(100)(embed_name) \n",
    "dense_name = Dense(1, activation=\"relu\")(inter_name)\n",
    "\n",
    "# description\n",
    "input_description = Input(shape=(None, ))\n",
    "embed_description = embedding_layer_description_trainable(input_description)\n",
    "inter_description = LSTM(200)(embed_description) \n",
    "dense_description = Dense(1, activation=\"relu\")(inter_description)\n",
    "\n",
    "\n",
    "# concatenate individual models\n",
    "concat = concatenate([dense_name, dense_description])\n",
    "outputs = Dense(1)(concat)\n",
    "\n",
    "model = Model(inputs=[input_name, input_description], outputs = outputs)\n",
    "model.compile(loss = 'mean_squared_error', optimizer = \"RMSprop\", metrics=['mae', me.root_mean_squared_error])"
   ]
  },
  {
   "cell_type": "code",
   "execution_count": 54,
   "metadata": {},
   "outputs": [
    {
     "name": "stdout",
     "output_type": "stream",
     "text": [
      "Epoch 1/30\n",
      "378/378 [==============================] - 37s 92ms/step - loss: 10929.4961 - mae: 68.5622 - root_mean_squared_error: 102.8287 - val_loss: 6407.2271 - val_mae: 48.5280 - val_root_mean_squared_error: 79.4736\n",
      "Epoch 2/30\n",
      "378/378 [==============================] - 33s 88ms/step - loss: 4843.3452 - mae: 43.0619 - root_mean_squared_error: 68.7862 - val_loss: 4217.3608 - val_mae: 39.7258 - val_root_mean_squared_error: 64.4543\n",
      "Epoch 3/30\n",
      "378/378 [==============================] - 34s 89ms/step - loss: 3773.5986 - mae: 38.6942 - root_mean_squared_error: 60.7737 - val_loss: 3791.4172 - val_mae: 39.4981 - val_root_mean_squared_error: 61.1667\n",
      "Epoch 4/30\n",
      "378/378 [==============================] - 33s 88ms/step - loss: 3369.5164 - mae: 36.5000 - root_mean_squared_error: 57.4160 - val_loss: 3547.9150 - val_mae: 37.8963 - val_root_mean_squared_error: 59.1191\n",
      "Epoch 5/30\n",
      "378/378 [==============================] - 34s 89ms/step - loss: 3131.4775 - mae: 35.4060 - root_mean_squared_error: 55.3363 - val_loss: 3585.0327 - val_mae: 37.5330 - val_root_mean_squared_error: 59.4295\n",
      "Epoch 6/30\n",
      "378/378 [==============================] - 33s 88ms/step - loss: 2947.7368 - mae: 34.2698 - root_mean_squared_error: 53.6936 - val_loss: 3755.6545 - val_mae: 36.6674 - val_root_mean_squared_error: 60.8069\n",
      "Epoch 7/30\n",
      "378/378 [==============================] - ETA: 0s - loss: 2822.7524 - mae: 33.5094 - root_mean_squared_error: 52.5853Restoring model weights from the end of the best epoch: 4.\n",
      "378/378 [==============================] - 33s 88ms/step - loss: 2822.7524 - mae: 33.5094 - root_mean_squared_error: 52.5853 - val_loss: 3563.2280 - val_mae: 36.1374 - val_root_mean_squared_error: 59.2034\n",
      "Epoch 7: early stopping\n"
     ]
    }
   ],
   "source": [
    "start = time.time()\n",
    "\n",
    "history = model.fit([X_tr_1_text_name, X_tr_1_text_description], y_tr_1,\n",
    "                    epochs=30,\n",
    "                    verbose=1, \n",
    "                    batch_size=128, \n",
    "                    shuffle=True,\n",
    "                    validation_data=([X_val_1_text_name, X_val_1_text_description], y_val_1),\n",
    "                    callbacks=callbacks,\n",
    "                    workers=8,\n",
    "                    use_multiprocessing=True)\n",
    "\n",
    "runtime = round((time.time() - start)/60, 2)"
   ]
  },
  {
   "cell_type": "code",
   "execution_count": 55,
   "metadata": {},
   "outputs": [],
   "source": [
    "rmse, mae = me.compute_metrics(model, [X_val_1_text_name, X_val_1_text_description], y_val_1)"
   ]
  },
  {
   "cell_type": "code",
   "execution_count": 56,
   "metadata": {},
   "outputs": [],
   "source": [
    "model_name.append('LSTM')\n",
    "features_considered.append('Name, Description')\n",
    "training_time.append(runtime)\n",
    "val_rmse.append(rmse)\n",
    "val_mae.append(mae)"
   ]
  },
  {
   "cell_type": "markdown",
   "metadata": {},
   "source": [
    "#### 2.3 LSTM - Description"
   ]
  },
  {
   "cell_type": "code",
   "execution_count": 57,
   "metadata": {},
   "outputs": [],
   "source": [
    "# description\n",
    "input_description = Input(shape=(None, ))\n",
    "embed_description = embedding_layer_description_trainable(input_description)\n",
    "inter_description = LSTM(200)(embed_description) \n",
    "outputs = Dense(1)(inter_description)\n",
    "\n",
    "model = Model(inputs=input_description, outputs=outputs)\n",
    "model.compile(loss = 'mean_squared_error', optimizer = \"RMSprop\", metrics=['mae', me.root_mean_squared_error])"
   ]
  },
  {
   "cell_type": "code",
   "execution_count": 58,
   "metadata": {},
   "outputs": [
    {
     "name": "stdout",
     "output_type": "stream",
     "text": [
      "Epoch 1/30\n",
      "378/378 [==============================] - 35s 85ms/step - loss: 9876.2598 - mae: 63.7285 - root_mean_squared_error: 98.0827 - val_loss: 6751.7388 - val_mae: 50.8692 - val_root_mean_squared_error: 81.6110\n",
      "Epoch 2/30\n",
      "378/378 [==============================] - 31s 82ms/step - loss: 5566.6055 - mae: 45.8829 - root_mean_squared_error: 73.8560 - val_loss: 4732.2500 - val_mae: 42.8959 - val_root_mean_squared_error: 68.2399\n",
      "Epoch 3/30\n",
      "378/378 [==============================] - 31s 82ms/step - loss: 4411.5151 - mae: 41.4995 - root_mean_squared_error: 65.6060 - val_loss: 4527.3950 - val_mae: 46.5473 - val_root_mean_squared_error: 66.8547\n",
      "Epoch 4/30\n",
      "378/378 [==============================] - 31s 83ms/step - loss: 4002.8230 - mae: 39.9809 - root_mean_squared_error: 62.5953 - val_loss: 4095.6401 - val_mae: 42.4061 - val_root_mean_squared_error: 63.5409\n",
      "Epoch 5/30\n",
      "378/378 [==============================] - 31s 82ms/step - loss: 3755.9316 - mae: 38.6901 - root_mean_squared_error: 60.6420 - val_loss: 3887.1824 - val_mae: 40.8603 - val_root_mean_squared_error: 61.8871\n",
      "Epoch 6/30\n",
      "378/378 [==============================] - 31s 82ms/step - loss: 3596.6704 - mae: 38.0702 - root_mean_squared_error: 59.4133 - val_loss: 3962.4397 - val_mae: 41.4998 - val_root_mean_squared_error: 62.5115\n",
      "Epoch 7/30\n",
      "378/378 [==============================] - 31s 83ms/step - loss: 3434.8384 - mae: 37.2442 - root_mean_squared_error: 58.0486 - val_loss: 3783.5957 - val_mae: 39.6544 - val_root_mean_squared_error: 61.0298\n",
      "Epoch 8/30\n",
      "378/378 [==============================] - 31s 83ms/step - loss: 3324.7207 - mae: 36.5927 - root_mean_squared_error: 57.0976 - val_loss: 3777.0986 - val_mae: 40.2591 - val_root_mean_squared_error: 61.0177\n",
      "Epoch 9/30\n",
      "378/378 [==============================] - 31s 82ms/step - loss: 3272.5515 - mae: 36.2958 - root_mean_squared_error: 56.6056 - val_loss: 3797.0952 - val_mae: 37.8367 - val_root_mean_squared_error: 61.0981\n",
      "Epoch 10/30\n",
      "378/378 [==============================] - 31s 82ms/step - loss: 3134.2756 - mae: 35.5130 - root_mean_squared_error: 55.4252 - val_loss: 3757.9534 - val_mae: 37.7138 - val_root_mean_squared_error: 60.7950\n",
      "Epoch 11/30\n",
      "378/378 [==============================] - 31s 82ms/step - loss: 3050.0349 - mae: 34.9240 - root_mean_squared_error: 54.5950 - val_loss: 3676.8611 - val_mae: 38.4143 - val_root_mean_squared_error: 60.1395\n",
      "Epoch 12/30\n",
      "378/378 [==============================] - 31s 82ms/step - loss: 2985.6858 - mae: 34.4963 - root_mean_squared_error: 54.0202 - val_loss: 3721.1653 - val_mae: 37.9129 - val_root_mean_squared_error: 60.4567\n",
      "Epoch 13/30\n",
      "378/378 [==============================] - 31s 82ms/step - loss: 2915.7224 - mae: 33.9942 - root_mean_squared_error: 53.3312 - val_loss: 3712.9995 - val_mae: 37.6339 - val_root_mean_squared_error: 60.4073\n",
      "Epoch 14/30\n",
      "378/378 [==============================] - ETA: 0s - loss: 2855.2102 - mae: 33.6402 - root_mean_squared_error: 52.8547Restoring model weights from the end of the best epoch: 11.\n",
      "378/378 [==============================] - 31s 82ms/step - loss: 2855.2102 - mae: 33.6402 - root_mean_squared_error: 52.8547 - val_loss: 3747.3760 - val_mae: 38.8998 - val_root_mean_squared_error: 60.6997\n",
      "Epoch 14: early stopping\n"
     ]
    }
   ],
   "source": [
    "start = time.time()\n",
    "\n",
    "history = model.fit(X_tr_1_text_description, y_tr_1,\n",
    "                    epochs=30,\n",
    "                    verbose=1, \n",
    "                    batch_size=128, \n",
    "                    shuffle=True,\n",
    "                    validation_data=(X_val_1_text_description, y_val_1),\n",
    "                    callbacks=callbacks,\n",
    "                    workers=8,\n",
    "                    use_multiprocessing=True)\n",
    "\n",
    "runtime = round((time.time() - start)/60, 2)"
   ]
  },
  {
   "cell_type": "code",
   "execution_count": 59,
   "metadata": {},
   "outputs": [],
   "source": [
    "rmse, mae = me.compute_metrics(model, X_val_1_text_description, y_val_1)"
   ]
  },
  {
   "cell_type": "code",
   "execution_count": 60,
   "metadata": {},
   "outputs": [],
   "source": [
    "model_name.append('LSTM')\n",
    "features_considered.append('Description')\n",
    "training_time.append(runtime)\n",
    "val_rmse.append(rmse)\n",
    "val_mae.append(mae)"
   ]
  },
  {
   "cell_type": "markdown",
   "metadata": {},
   "source": [
    "#### 3. Bidirectional LSTM - All Text Features"
   ]
  },
  {
   "cell_type": "code",
   "execution_count": 61,
   "metadata": {},
   "outputs": [],
   "source": [
    "# name\n",
    "input_name = Input(shape=(None, ))\n",
    "embed_name = embedding_layer_name_trainable(input_name)\n",
    "inter_name = Bidirectional(LSTM(100, return_sequences=False), merge_mode=\"concat\")(embed_name) \n",
    "dense_name = Dense(1, activation=\"relu\")(inter_name)\n",
    "\n",
    "# summary\n",
    "input_summary = Input(shape=(None, ))\n",
    "embed_summary = embedding_layer_summary_trainable(input_summary)\n",
    "inter_summary = Bidirectional(LSTM(200, return_sequences=False), merge_mode=\"concat\")(embed_summary) \n",
    "dense_summary = Dense(1, activation=\"relu\")(inter_summary)\n",
    "\n",
    "# description\n",
    "input_description = Input(shape=(None, ))\n",
    "embed_description = embedding_layer_description_trainable(input_description)\n",
    "inter_description = Bidirectional(LSTM(200, return_sequences=False), merge_mode=\"concat\")(embed_description) \n",
    "dense_description = Dense(1, activation=\"relu\")(inter_description)\n",
    "\n",
    "\n",
    "# concatenate individual models\n",
    "concat = concatenate([dense_name, dense_summary, dense_description])\n",
    "outputs = Dense(1)(concat)\n",
    "\n",
    "\n",
    "model = Model(inputs=[input_name, input_summary, input_description], outputs = outputs)\n",
    "model.compile(loss = 'mean_squared_error', optimizer = \"RMSprop\", metrics=['mae', me.root_mean_squared_error])"
   ]
  },
  {
   "cell_type": "code",
   "execution_count": 62,
   "metadata": {},
   "outputs": [
    {
     "name": "stdout",
     "output_type": "stream",
     "text": [
      "Epoch 1/30\n",
      "378/378 [==============================] - 98s 240ms/step - loss: 10934.6748 - mae: 68.4941 - root_mean_squared_error: 103.1966 - val_loss: 6772.4722 - val_mae: 49.3531 - val_root_mean_squared_error: 81.7173\n",
      "Epoch 2/30\n",
      "378/378 [==============================] - 83s 220ms/step - loss: 5177.1987 - mae: 44.1416 - root_mean_squared_error: 71.1669 - val_loss: 4592.7485 - val_mae: 43.2334 - val_root_mean_squared_error: 67.3182\n",
      "Epoch 3/30\n",
      "378/378 [==============================] - 83s 219ms/step - loss: 4231.1846 - mae: 41.2533 - root_mean_squared_error: 64.3830 - val_loss: 4345.7656 - val_mae: 41.8307 - val_root_mean_squared_error: 65.4736\n",
      "Epoch 4/30\n",
      "378/378 [==============================] - 83s 219ms/step - loss: 4008.4692 - mae: 40.2473 - root_mean_squared_error: 62.6265 - val_loss: 4438.8828 - val_mae: 40.3284 - val_root_mean_squared_error: 66.1106\n",
      "Epoch 5/30\n",
      "378/378 [==============================] - 83s 219ms/step - loss: 3906.0750 - mae: 39.7026 - root_mean_squared_error: 61.8480 - val_loss: 4306.4692 - val_mae: 44.0466 - val_root_mean_squared_error: 65.2796\n",
      "Epoch 6/30\n",
      "378/378 [==============================] - 82s 218ms/step - loss: 3818.5037 - mae: 39.1555 - root_mean_squared_error: 61.1714 - val_loss: 4236.6836 - val_mae: 43.7038 - val_root_mean_squared_error: 64.7187\n",
      "Epoch 7/30\n",
      "378/378 [==============================] - 82s 217ms/step - loss: 3746.7046 - mae: 38.8314 - root_mean_squared_error: 60.5824 - val_loss: 4211.8037 - val_mae: 40.5518 - val_root_mean_squared_error: 64.4471\n",
      "Epoch 8/30\n",
      "378/378 [==============================] - 82s 218ms/step - loss: 3675.1536 - mae: 38.3387 - root_mean_squared_error: 60.0439 - val_loss: 4193.1504 - val_mae: 40.2752 - val_root_mean_squared_error: 64.2870\n",
      "Epoch 9/30\n",
      "378/378 [==============================] - 82s 218ms/step - loss: 3624.8794 - mae: 38.0575 - root_mean_squared_error: 59.5417 - val_loss: 4182.3931 - val_mae: 40.6190 - val_root_mean_squared_error: 64.2266\n",
      "Epoch 10/30\n",
      "378/378 [==============================] - 82s 218ms/step - loss: 3556.3982 - mae: 37.6789 - root_mean_squared_error: 59.0343 - val_loss: 4167.6562 - val_mae: 41.4180 - val_root_mean_squared_error: 64.1384\n",
      "Epoch 11/30\n",
      "378/378 [==============================] - 83s 219ms/step - loss: 3497.8176 - mae: 37.3476 - root_mean_squared_error: 58.5151 - val_loss: 4218.4966 - val_mae: 40.6417 - val_root_mean_squared_error: 64.4940\n",
      "Epoch 12/30\n",
      "378/378 [==============================] - 85s 224ms/step - loss: 3427.6870 - mae: 37.0117 - root_mean_squared_error: 57.9359 - val_loss: 4171.9351 - val_mae: 40.8487 - val_root_mean_squared_error: 64.1608\n",
      "Epoch 13/30\n",
      "378/378 [==============================] - ETA: 0s - loss: 3365.3706 - mae: 36.7241 - root_mean_squared_error: 57.3968Restoring model weights from the end of the best epoch: 10.\n",
      "378/378 [==============================] - 85s 224ms/step - loss: 3365.3706 - mae: 36.7241 - root_mean_squared_error: 57.3968 - val_loss: 4289.8579 - val_mae: 41.4205 - val_root_mean_squared_error: 65.0980\n",
      "Epoch 13: early stopping\n"
     ]
    }
   ],
   "source": [
    "start = time.time()\n",
    "\n",
    "history = model.fit([X_tr_1_text_name, X_tr_1_text_summary, X_tr_1_text_description], y_tr_1,\n",
    "                    epochs=30,\n",
    "                    verbose=1, \n",
    "                    batch_size=128, \n",
    "                    shuffle=True,\n",
    "                    validation_data=([X_val_1_text_name, X_val_1_text_summary, X_val_1_text_description], y_val_1),\n",
    "                    callbacks=callbacks,\n",
    "                    workers=8,\n",
    "                    use_multiprocessing=True)\n",
    "\n",
    "runtime = round((time.time() - start)/60, 2)"
   ]
  },
  {
   "cell_type": "code",
   "execution_count": 63,
   "metadata": {},
   "outputs": [],
   "source": [
    "rmse, mae = me.compute_metrics(model, [X_val_1_text_name, X_val_1_text_summary, X_val_1_text_description], y_val_1)"
   ]
  },
  {
   "cell_type": "code",
   "execution_count": 64,
   "metadata": {},
   "outputs": [],
   "source": [
    "model_name.append('Bidirect. LSTM')\n",
    "features_considered.append('Name, Summary, Description')\n",
    "training_time.append(runtime)\n",
    "val_rmse.append(rmse)\n",
    "val_mae.append(mae)"
   ]
  },
  {
   "cell_type": "markdown",
   "metadata": {},
   "source": [
    "#### 4. Deep LSTM with Dropout Regularization - All Text Features"
   ]
  },
  {
   "cell_type": "code",
   "execution_count": 65,
   "metadata": {},
   "outputs": [],
   "source": [
    "# name\n",
    "input_name = Input(shape=(None, ))\n",
    "embed_name = embedding_layer_name_trainable(input_name)\n",
    "inter_name = LSTM(100, return_sequences=True)(embed_name) \n",
    "inter_name = Dropout(0.05)(inter_name)\n",
    "inter_name = LSTM(50, return_sequences=False)(inter_name)\n",
    "inter_name = Dropout(0.05)(inter_name)\n",
    "dense_name = Dense(1, activation=\"relu\")(inter_name)\n",
    "\n",
    "# summary\n",
    "input_summary = Input(shape=(None, ))\n",
    "embed_summary = embedding_layer_summary_trainable(input_summary)\n",
    "inter_summary = LSTM(100, return_sequences=True)(embed_summary) \n",
    "inter_summary = Dropout(0.05)(inter_summary)\n",
    "inter_summary = LSTM(50, return_sequences=False)(inter_summary)\n",
    "inter_summary = Dropout(0.05)(inter_summary)\n",
    "dense_summary = Dense(1, activation=\"relu\")(inter_summary)\n",
    "\n",
    "# description\n",
    "input_description = Input(shape=(None, ))\n",
    "embed_description = embedding_layer_description_trainable(input_description)\n",
    "inter_description = LSTM(100, return_sequences=True)(embed_description) \n",
    "inter_description = Dropout(0.05)(inter_description)\n",
    "inter_description = LSTM(50, return_sequences=False)(inter_description)\n",
    "inter_description = Dropout(0.05)(inter_description)\n",
    "dense_description = Dense(1, activation=\"relu\")(inter_description)\n",
    "\n",
    "\n",
    "# concatenate individual models\n",
    "concat = concatenate([dense_name, dense_summary, dense_description])\n",
    "outputs = Dense(1)(concat)\n",
    "\n",
    "model = Model(inputs=[input_name, input_summary, input_description], outputs = outputs)\n",
    "model.compile(loss = 'mean_squared_error', optimizer = \"RMSprop\", metrics=['mae', me.root_mean_squared_error])"
   ]
  },
  {
   "cell_type": "code",
   "execution_count": 66,
   "metadata": {},
   "outputs": [
    {
     "name": "stdout",
     "output_type": "stream",
     "text": [
      "Epoch 1/30\n",
      "378/378 [==============================] - 68s 161ms/step - loss: 14911.2480 - mae: 88.7356 - root_mean_squared_error: 121.4979 - val_loss: 12789.4551 - val_mae: 76.8077 - val_root_mean_squared_error: 112.6058\n",
      "Epoch 2/30\n",
      "378/378 [==============================] - 54s 142ms/step - loss: 10585.1602 - mae: 66.0041 - root_mean_squared_error: 102.0884 - val_loss: 8562.4062 - val_mae: 58.2877 - val_root_mean_squared_error: 91.9759\n",
      "Epoch 3/30\n",
      "378/378 [==============================] - 54s 143ms/step - loss: 6985.2188 - mae: 50.8105 - root_mean_squared_error: 82.6481 - val_loss: 5684.8179 - val_mae: 46.2125 - val_root_mean_squared_error: 74.8634\n",
      "Epoch 4/30\n",
      "378/378 [==============================] - 55s 144ms/step - loss: 4992.1870 - mae: 42.9920 - root_mean_squared_error: 69.8670 - val_loss: 4635.3242 - val_mae: 43.1011 - val_root_mean_squared_error: 67.6208\n",
      "Epoch 5/30\n",
      "378/378 [==============================] - 59s 157ms/step - loss: 4333.3774 - mae: 41.2241 - root_mean_squared_error: 65.2198 - val_loss: 4478.3447 - val_mae: 43.1271 - val_root_mean_squared_error: 66.5358\n",
      "Epoch 6/30\n",
      "378/378 [==============================] - 54s 143ms/step - loss: 4089.9929 - mae: 40.2895 - root_mean_squared_error: 63.3237 - val_loss: 4327.8389 - val_mae: 40.5899 - val_root_mean_squared_error: 65.3142\n",
      "Epoch 7/30\n",
      "378/378 [==============================] - 54s 143ms/step - loss: 3958.0203 - mae: 39.7450 - root_mean_squared_error: 62.2528 - val_loss: 4280.2578 - val_mae: 40.0963 - val_root_mean_squared_error: 64.9480\n",
      "Epoch 8/30\n",
      "378/378 [==============================] - 54s 143ms/step - loss: 3858.4172 - mae: 39.2564 - root_mean_squared_error: 61.5659 - val_loss: 4237.8628 - val_mae: 42.4995 - val_root_mean_squared_error: 64.6942\n",
      "Epoch 9/30\n",
      "378/378 [==============================] - 54s 143ms/step - loss: 3793.4365 - mae: 38.8993 - root_mean_squared_error: 60.9852 - val_loss: 4198.8647 - val_mae: 41.6215 - val_root_mean_squared_error: 64.3841\n",
      "Epoch 10/30\n",
      "378/378 [==============================] - 55s 144ms/step - loss: 3725.9585 - mae: 38.4904 - root_mean_squared_error: 60.4462 - val_loss: 4168.1084 - val_mae: 41.0357 - val_root_mean_squared_error: 64.1444\n",
      "Epoch 11/30\n",
      "378/378 [==============================] - 54s 144ms/step - loss: 3634.1702 - mae: 38.0654 - root_mean_squared_error: 59.6435 - val_loss: 4223.4707 - val_mae: 40.2639 - val_root_mean_squared_error: 64.4921\n",
      "Epoch 12/30\n",
      "378/378 [==============================] - 54s 143ms/step - loss: 3572.6743 - mae: 37.7563 - root_mean_squared_error: 59.1361 - val_loss: 4191.0508 - val_mae: 40.3652 - val_root_mean_squared_error: 64.2898\n",
      "Epoch 13/30\n",
      "378/378 [==============================] - ETA: 0s - loss: 3497.1538 - mae: 37.3813 - root_mean_squared_error: 58.5694Restoring model weights from the end of the best epoch: 10.\n",
      "378/378 [==============================] - 54s 143ms/step - loss: 3497.1538 - mae: 37.3813 - root_mean_squared_error: 58.5694 - val_loss: 4659.4907 - val_mae: 44.2048 - val_root_mean_squared_error: 67.8964\n",
      "Epoch 13: early stopping\n"
     ]
    }
   ],
   "source": [
    "start = time.time()\n",
    "\n",
    "history = model.fit([X_tr_1_text_name, X_tr_1_text_summary, X_tr_1_text_description], y_tr_1,\n",
    "                    epochs=30,\n",
    "                    verbose=1, \n",
    "                    batch_size=128, \n",
    "                    shuffle=True,\n",
    "                    validation_data=([X_val_1_text_name, X_val_1_text_summary, X_val_1_text_description], y_val_1),\n",
    "                    callbacks=callbacks,\n",
    "                    workers=8,\n",
    "                    use_multiprocessing=True)\n",
    "\n",
    "runtime = round((time.time() - start)/60, 2)"
   ]
  },
  {
   "cell_type": "code",
   "execution_count": 67,
   "metadata": {},
   "outputs": [],
   "source": [
    "rmse, mae = me.compute_metrics(model, [X_val_1_text_name, X_val_1_text_summary, X_val_1_text_description], y_val_1)"
   ]
  },
  {
   "cell_type": "code",
   "execution_count": 68,
   "metadata": {},
   "outputs": [],
   "source": [
    "model_name.append('Deep LSTM')\n",
    "features_considered.append('Name, Summary, Description')\n",
    "training_time.append(runtime)\n",
    "val_rmse.append(rmse)\n",
    "val_mae.append(mae)"
   ]
  },
  {
   "cell_type": "markdown",
   "metadata": {},
   "source": [
    "#### 6. Convolutional Neural Network - Name and Description"
   ]
  },
  {
   "cell_type": "code",
   "execution_count": 69,
   "metadata": {},
   "outputs": [],
   "source": [
    "# name \n",
    "input_name = Input(shape=(X_tr_1_text_name.shape[1],))\n",
    "embed_name = embedding_layer_name_trainable(input_name)\n",
    "inter_name = Conv1D(filters=64, kernel_size=7, activation='relu')(embed_name)\n",
    "inter_name = MaxPooling1D(pool_size=1)(inter_name)\n",
    "inter_name = Flatten()(inter_name)\n",
    "dense_name = Dense(1, activation='relu')(inter_name)\n",
    "\n",
    "# description\n",
    "input_description = Input(shape=(X_tr_1_text_description.shape[1],))\n",
    "embed_description = embedding_layer_description_trainable(input_description)\n",
    "inter_description = Conv1D(filters=128, kernel_size=5, activation='relu')(embed_description)\n",
    "inter_description = MaxPooling1D(pool_size=2)(inter_description)\n",
    "inter_description = Conv1D(filters=64, kernel_size=5, activation='relu')(inter_description)\n",
    "inter_description = MaxPooling1D(pool_size=2)(inter_description)\n",
    "inter_description = Conv1D(filters=32, kernel_size=5, activation='relu')(inter_description)\n",
    "inter_description = MaxPooling1D(pool_size=2)(inter_description)\n",
    "inter_description = Flatten()(inter_description)\n",
    "dense_description = Dense(1, activation='relu')(inter_description)\n",
    "\n",
    "# concatenate individual models\n",
    "concat = concatenate([dense_name, dense_description])\n",
    "inter = Dropout(0.1)(concat)\n",
    "outputs = Dense(1)(inter)\n",
    "\n",
    "model = Model(inputs=[input_name, input_description], outputs=outputs)\n",
    "model.compile(loss = 'mean_squared_error', optimizer = \"adam\", metrics=['mae', me.root_mean_squared_error])"
   ]
  },
  {
   "cell_type": "code",
   "execution_count": 70,
   "metadata": {},
   "outputs": [
    {
     "name": "stdout",
     "output_type": "stream",
     "text": [
      "Epoch 1/30\n",
      "378/378 [==============================] - 21s 50ms/step - loss: 5413.1064 - mae: 48.7984 - root_mean_squared_error: 72.2977 - val_loss: 3785.3850 - val_mae: 39.9526 - val_root_mean_squared_error: 61.0596\n",
      "Epoch 2/30\n",
      "378/378 [==============================] - 17s 44ms/step - loss: 4230.7651 - mae: 43.0247 - root_mean_squared_error: 64.5125 - val_loss: 3780.2114 - val_mae: 37.9718 - val_root_mean_squared_error: 60.9636\n",
      "Epoch 3/30\n",
      "378/378 [==============================] - 16s 43ms/step - loss: 4017.7610 - mae: 41.7095 - root_mean_squared_error: 62.7233 - val_loss: 3504.7268 - val_mae: 38.2481 - val_root_mean_squared_error: 58.7453\n",
      "Epoch 4/30\n",
      "378/378 [==============================] - 16s 44ms/step - loss: 3833.9185 - mae: 40.5666 - root_mean_squared_error: 61.3347 - val_loss: 3519.7544 - val_mae: 36.5753 - val_root_mean_squared_error: 58.8259\n",
      "Epoch 5/30\n",
      "378/378 [==============================] - 16s 43ms/step - loss: 3752.9019 - mae: 39.8555 - root_mean_squared_error: 60.6408 - val_loss: 3447.1682 - val_mae: 36.4176 - val_root_mean_squared_error: 58.2249\n",
      "Epoch 6/30\n",
      "378/378 [==============================] - 17s 44ms/step - loss: 3654.1116 - mae: 39.3037 - root_mean_squared_error: 59.8792 - val_loss: 3504.9153 - val_mae: 39.7564 - val_root_mean_squared_error: 58.8335\n",
      "Epoch 7/30\n",
      "378/378 [==============================] - 16s 43ms/step - loss: 3559.0369 - mae: 38.8553 - root_mean_squared_error: 59.0774 - val_loss: 3449.4431 - val_mae: 37.1716 - val_root_mean_squared_error: 58.2797\n",
      "Epoch 8/30\n",
      "378/378 [==============================] - ETA: 0s - loss: 3406.8994 - mae: 37.9933 - root_mean_squared_error: 57.7761Restoring model weights from the end of the best epoch: 5.\n",
      "378/378 [==============================] - 17s 45ms/step - loss: 3406.8994 - mae: 37.9933 - root_mean_squared_error: 57.7761 - val_loss: 3476.1128 - val_mae: 37.3697 - val_root_mean_squared_error: 58.5352\n",
      "Epoch 8: early stopping\n"
     ]
    }
   ],
   "source": [
    "start = time.time()\n",
    "\n",
    "history = model.fit([X_tr_1_text_name, X_tr_1_text_description], y_tr_1,\n",
    "                    epochs=30,\n",
    "                    verbose=1, \n",
    "                    batch_size=128,\n",
    "                    shuffle=True,\n",
    "                    validation_data=([X_val_1_text_name, X_val_1_text_description], y_val_1),\n",
    "                    callbacks=callbacks,\n",
    "                    workers=8,\n",
    "                    use_multiprocessing=True)\n",
    "\n",
    "runtime = round((time.time() - start)/60, 2)"
   ]
  },
  {
   "cell_type": "code",
   "execution_count": 71,
   "metadata": {},
   "outputs": [],
   "source": [
    "rmse, mae = me.compute_metrics(model, [X_val_1_text_name, X_val_1_text_description], y_val_1)"
   ]
  },
  {
   "cell_type": "code",
   "execution_count": 72,
   "metadata": {},
   "outputs": [],
   "source": [
    "model_name.append('CNN')\n",
    "features_considered.append('Name, Description')\n",
    "training_time.append(runtime)\n",
    "val_rmse.append(rmse)\n",
    "val_mae.append(mae)"
   ]
  },
  {
   "cell_type": "markdown",
   "metadata": {},
   "source": [
    "#### Export Results Table"
   ]
  },
  {
   "cell_type": "code",
   "execution_count": 73,
   "metadata": {},
   "outputs": [],
   "source": [
    "results = pd.DataFrame({'Model': model_name,\n",
    "                        'Features Considered': features_considered, \n",
    "                        'Training Time (min)': training_time,\n",
    "                        'Val. RMSE': val_rmse,\n",
    "                        'Val. MAE': val_mae})"
   ]
  },
  {
   "cell_type": "code",
   "execution_count": 74,
   "metadata": {},
   "outputs": [
    {
     "data": {
      "text/html": [
       "<div>\n",
       "<style scoped>\n",
       "    .dataframe tbody tr th:only-of-type {\n",
       "        vertical-align: middle;\n",
       "    }\n",
       "\n",
       "    .dataframe tbody tr th {\n",
       "        vertical-align: top;\n",
       "    }\n",
       "\n",
       "    .dataframe thead th {\n",
       "        text-align: right;\n",
       "    }\n",
       "</style>\n",
       "<table border=\"1\" class=\"dataframe\">\n",
       "  <thead>\n",
       "    <tr style=\"text-align: right;\">\n",
       "      <th></th>\n",
       "      <th>Model</th>\n",
       "      <th>Features Considered</th>\n",
       "      <th>Training Time (min)</th>\n",
       "      <th>Val. RMSE</th>\n",
       "      <th>Val. MAE</th>\n",
       "    </tr>\n",
       "  </thead>\n",
       "  <tbody>\n",
       "    <tr>\n",
       "      <th>0</th>\n",
       "      <td>GRU (Static Emb.)</td>\n",
       "      <td>Name, Summary, Description</td>\n",
       "      <td>7.13</td>\n",
       "      <td>66.002661</td>\n",
       "      <td>41.513946</td>\n",
       "    </tr>\n",
       "    <tr>\n",
       "      <th>1</th>\n",
       "      <td>GRU (Trainable Emb.)</td>\n",
       "      <td>Name, Summary, Description</td>\n",
       "      <td>7.00</td>\n",
       "      <td>64.755734</td>\n",
       "      <td>40.673919</td>\n",
       "    </tr>\n",
       "    <tr>\n",
       "      <th>2</th>\n",
       "      <td>GRU (Static Emb.)</td>\n",
       "      <td>Name, Description</td>\n",
       "      <td>4.35</td>\n",
       "      <td>60.282293</td>\n",
       "      <td>36.802918</td>\n",
       "    </tr>\n",
       "    <tr>\n",
       "      <th>3</th>\n",
       "      <td>GRU (Trainable Emb.)</td>\n",
       "      <td>Name, Description</td>\n",
       "      <td>4.79</td>\n",
       "      <td>58.608953</td>\n",
       "      <td>36.502612</td>\n",
       "    </tr>\n",
       "    <tr>\n",
       "      <th>4</th>\n",
       "      <td>GRU (Static Emb.)</td>\n",
       "      <td>Description</td>\n",
       "      <td>5.51</td>\n",
       "      <td>60.972348</td>\n",
       "      <td>38.694965</td>\n",
       "    </tr>\n",
       "    <tr>\n",
       "      <th>5</th>\n",
       "      <td>GRU (Trainable Emb.)</td>\n",
       "      <td>Description</td>\n",
       "      <td>8.38</td>\n",
       "      <td>60.868867</td>\n",
       "      <td>37.942431</td>\n",
       "    </tr>\n",
       "    <tr>\n",
       "      <th>6</th>\n",
       "      <td>LSTM</td>\n",
       "      <td>Name, Summary, Description</td>\n",
       "      <td>14.05</td>\n",
       "      <td>64.854406</td>\n",
       "      <td>41.109050</td>\n",
       "    </tr>\n",
       "    <tr>\n",
       "      <th>7</th>\n",
       "      <td>LSTM</td>\n",
       "      <td>Name, Description</td>\n",
       "      <td>3.96</td>\n",
       "      <td>59.564381</td>\n",
       "      <td>37.896297</td>\n",
       "    </tr>\n",
       "    <tr>\n",
       "      <th>8</th>\n",
       "      <td>LSTM</td>\n",
       "      <td>Description</td>\n",
       "      <td>7.32</td>\n",
       "      <td>60.637128</td>\n",
       "      <td>38.414291</td>\n",
       "    </tr>\n",
       "    <tr>\n",
       "      <th>9</th>\n",
       "      <td>Bidirect. LSTM</td>\n",
       "      <td>Name, Summary, Description</td>\n",
       "      <td>18.22</td>\n",
       "      <td>64.557382</td>\n",
       "      <td>41.417985</td>\n",
       "    </tr>\n",
       "    <tr>\n",
       "      <th>10</th>\n",
       "      <td>Deep LSTM</td>\n",
       "      <td>Name, Summary, Description</td>\n",
       "      <td>12.05</td>\n",
       "      <td>64.560887</td>\n",
       "      <td>41.035661</td>\n",
       "    </tr>\n",
       "    <tr>\n",
       "      <th>11</th>\n",
       "      <td>CNN</td>\n",
       "      <td>Name, Description</td>\n",
       "      <td>2.27</td>\n",
       "      <td>58.712592</td>\n",
       "      <td>36.417600</td>\n",
       "    </tr>\n",
       "  </tbody>\n",
       "</table>\n",
       "</div>"
      ],
      "text/plain": [
       "                   Model         Features Considered  Training Time (min)  \\\n",
       "0      GRU (Static Emb.)  Name, Summary, Description                 7.13   \n",
       "1   GRU (Trainable Emb.)  Name, Summary, Description                 7.00   \n",
       "2      GRU (Static Emb.)           Name, Description                 4.35   \n",
       "3   GRU (Trainable Emb.)           Name, Description                 4.79   \n",
       "4      GRU (Static Emb.)                 Description                 5.51   \n",
       "5   GRU (Trainable Emb.)                 Description                 8.38   \n",
       "6                   LSTM  Name, Summary, Description                14.05   \n",
       "7                   LSTM           Name, Description                 3.96   \n",
       "8                   LSTM                 Description                 7.32   \n",
       "9         Bidirect. LSTM  Name, Summary, Description                18.22   \n",
       "10             Deep LSTM  Name, Summary, Description                12.05   \n",
       "11                   CNN           Name, Description                 2.27   \n",
       "\n",
       "    Val. RMSE   Val. MAE  \n",
       "0   66.002661  41.513946  \n",
       "1   64.755734  40.673919  \n",
       "2   60.282293  36.802918  \n",
       "3   58.608953  36.502612  \n",
       "4   60.972348  38.694965  \n",
       "5   60.868867  37.942431  \n",
       "6   64.854406  41.109050  \n",
       "7   59.564381  37.896297  \n",
       "8   60.637128  38.414291  \n",
       "9   64.557382  41.417985  \n",
       "10  64.560887  41.035661  \n",
       "11  58.712592  36.417600  "
      ]
     },
     "execution_count": 74,
     "metadata": {},
     "output_type": "execute_result"
    }
   ],
   "source": [
    "results"
   ]
  },
  {
   "cell_type": "code",
   "execution_count": 75,
   "metadata": {},
   "outputs": [],
   "source": [
    "results.to_csv('results_models_text.csv')"
   ]
  }
 ],
 "metadata": {
  "kernelspec": {
   "display_name": "Python 3",
   "language": "python",
   "name": "python3"
  },
  "language_info": {
   "codemirror_mode": {
    "name": "ipython",
    "version": 3
   },
   "file_extension": ".py",
   "mimetype": "text/x-python",
   "name": "python",
   "nbconvert_exporter": "python",
   "pygments_lexer": "ipython3",
   "version": "3.8.13"
  }
 },
 "nbformat": 4,
 "nbformat_minor": 4
}
